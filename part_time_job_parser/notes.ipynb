{
 "cells": [
  {
   "cell_type": "code",
   "execution_count": 1,
   "id": "409eb11f",
   "metadata": {},
   "outputs": [],
   "source": [
    "import requests\n",
    "from bs4 import BeautifulSoup\n",
    "import json\n",
    "import os\n",
    "from telegram import Update\n",
    "from telegram.ext import Application, CommandHandler, MessageHandler, filters, ContextTypes\n",
    "import logging\n",
    "from dotenv import load_dotenv"
   ]
  },
  {
   "cell_type": "code",
   "execution_count": 2,
   "id": "ebcec03b",
   "metadata": {},
   "outputs": [],
   "source": [
    "load_dotenv()\n",
    "\n",
    "BOT_TOKEN = os.getenv('BOT_TOKEN')\n",
    "BASE_URL = \"https://finder.work/vacancies/project?categories=1\"\n",
    "JSON_FILE = \"vacancies.json\"\n",
    "\n",
    "# Настройка логирования\n",
    "logging.basicConfig(level=logging.INFO, format='%(asctime)s - %(levelname)s - %(message)s')\n",
    "logger = logging.getLogger(__name__)"
   ]
  },
  {
   "cell_type": "code",
   "execution_count": null,
   "id": "ad520862",
   "metadata": {},
   "outputs": [],
   "source": []
  },
  {
   "cell_type": "code",
   "execution_count": 3,
   "id": "6001ac5f",
   "metadata": {},
   "outputs": [],
   "source": [
    "def load_vacancies():\n",
    "    \"\"\"Загружает сохранённые вакансии из JSON-файла.\"\"\"\n",
    "    try:\n",
    "        with open(JSON_FILE, 'r', encoding='utf-8') as f:\n",
    "            return json.load(f)\n",
    "    except FileNotFoundError:\n",
    "        return {}\n",
    "\n",
    "def save_vacancies(vacancies):\n",
    "    \"\"\"Сохраняет вакансии в JSON-файл.\"\"\"\n",
    "    with open(JSON_FILE, 'w', encoding='utf-8') as f:\n",
    "        json.dump(vacancies, f, ensure_ascii=False, indent=4)"
   ]
  },
  {
   "cell_type": "code",
   "execution_count": 4,
   "id": "510f0372",
   "metadata": {},
   "outputs": [],
   "source": [
    "def parse_vacancies():\n",
    "    \"\"\"Парсит вакансии со всех страниц.\"\"\"\n",
    "    vacancies = {}\n",
    "    page = 1\n",
    "    while True:\n",
    "        url = f\"{BASE_URL}&page={page}\" if page > 1 else BASE_URL\n",
    "        try:\n",
    "            response = requests.get(url, timeout=10)\n",
    "            if response.status_code != 200:\n",
    "                logger.warning(f\"Не удалось загрузить страницу {url}: статус {response.status_code}\")\n",
    "                break\n",
    "\n",
    "            soup = BeautifulSoup(response.text, 'html.parser')\n",
    "            vacancy_cards = soup.find_all('div', class_='fui-flex fui-flex-col fui-bg-white fui-sheet-shadow_sm fui-card transition-shadow cursor-pointer')\n",
    "\n",
    "            if not vacancy_cards:\n",
    "                logger.info(f\"Вакансии не найдены на странице {page}\")\n",
    "                break\n",
    "\n",
    "            for card in vacancy_cards:\n",
    "                title_elem = card.find('a', class_='fui-no-underline font-bold text-lg w-0 grow flex-wrap text-blue-dark')\n",
    "                title = title_elem.text.strip() if title_elem else \"N/A\"\n",
    "                vacancy_url = title_elem['href'] if title_elem else \"\"\n",
    "                if vacancy_url and not vacancy_url.startswith('http'):\n",
    "                    vacancy_url = \"https://finder.work\" + vacancy_url\n",
    "                \n",
    "                salary_elem = card.find('div', class_='font-bold text-black text-xl')\n",
    "                salary = salary_elem.text.replace('\\xa0', ' ') if salary_elem else \"N/A\"\n",
    "                \n",
    "                company_elem = card.find('a', class_='fui-no-underline text-grey-dark')\n",
    "                company = company_elem.text if company_elem else \"N/A\"\n",
    "\n",
    "                if vacancy_url:  # Используем URL как ключ, если он есть\n",
    "                    vacancies[vacancy_url] = {\n",
    "                        'title': title,\n",
    "                        'salary': salary,\n",
    "                        'company': company,\n",
    "                        'url': vacancy_url\n",
    "                    }\n",
    "\n",
    "            page += 1\n",
    "        except requests.RequestException as e:\n",
    "            logger.error(f\"Ошибка при запросе страницы {url}: {e}\")\n",
    "            break\n",
    "\n",
    "    return vacancies"
   ]
  },
  {
   "cell_type": "code",
   "execution_count": 5,
   "id": "6c19221b",
   "metadata": {},
   "outputs": [
    {
     "name": "stderr",
     "output_type": "stream",
     "text": [
      "2025-07-23 20:55:01,025 - ERROR - Ошибка при запросе страницы https://finder.work/vacancies/project?categories=1: [SSL: WRONG_VERSION_NUMBER] wrong version number (_ssl.c:2578)\n"
     ]
    }
   ],
   "source": [
    "vacancies = parse_vacancies()"
   ]
  },
  {
   "cell_type": "code",
   "execution_count": 6,
   "id": "52a28dde",
   "metadata": {},
   "outputs": [
    {
     "data": {
      "text/plain": [
       "{}"
      ]
     },
     "execution_count": 6,
     "metadata": {},
     "output_type": "execute_result"
    }
   ],
   "source": [
    "vacancies"
   ]
  },
  {
   "cell_type": "code",
   "execution_count": 7,
   "id": "62e15410",
   "metadata": {},
   "outputs": [],
   "source": [
    "async def start(update: Update, context: ContextTypes.DEFAULT_TYPE):\n",
    "    \"\"\"Обрабатывает команду /start: парсит вакансии, сохраняет и отправляет файл.\"\"\"\n",
    "    chat_id = update.message.chat_id\n",
    "    logger.info(f\"Получена команда /start от чата {chat_id}\")\n",
    "\n",
    "    await context.bot.send_message(chat_id=chat_id, text=\"Запускаю парсинг вакансий...\")\n",
    "\n",
    "    # Парсим вакансии\n",
    "    vacancies = parse_vacancies()\n",
    "\n",
    "    if not vacancies:\n",
    "        await context.bot.send_message(chat_id=chat_id, text=\\\n",
    "                                       \"Не удалось найти вакансии. Возможно, проблема с сайтом.\")\n",
    "        return\n",
    "\n",
    "    # Сохраняем вакансии в файл\n",
    "    save_vacancies(vacancies)\n",
    "    await context.bot.send_message(chat_id=chat_id, text=\\\n",
    "                                   f\"Найдено {len(vacancies)} вакансий. Сохраняю в {JSON_FILE} и отправляю файл.\")\n",
    "\n",
    "    # Отправляем файл пользователю\n",
    "    try:\n",
    "        with open(JSON_FILE, 'rb') as f:\n",
    "            await context.bot.send_document(chat_id=chat_id, document=f, filename=JSON_FILE)\n",
    "    except Exception as e:\n",
    "        logger.error(f\"Ошибка при отправке файла: {e}\")\n",
    "        await context.bot.send_message(chat_id=chat_id, text=\"Ошибка при отправке файла.\")"
   ]
  },
  {
   "cell_type": "code",
   "execution_count": 8,
   "id": "3ecdd255",
   "metadata": {},
   "outputs": [],
   "source": [
    "async def check_vacancies(update: Update, context: ContextTypes.DEFAULT_TYPE):\n",
    "    \"\"\"Обрабатывает команду /check: сравнивает вакансии и отправляет новые.\"\"\"\n",
    "    chat_id = update.message.chat_id\n",
    "    logger.info(f\"Получена команда /check от чата {chat_id}\")\n",
    "\n",
    "    await context.bot.send_message(chat_id=chat_id, text=\"Проверяю вакансии...\")\n",
    "\n",
    "    # Парсим текущие вакансии\n",
    "    old_vacancies = load_vacancies()\n",
    "    new_vacancies = parse_vacancies()\n",
    "\n",
    "    if not new_vacancies:\n",
    "        await context.bot.send_message(chat_id=chat_id, text=\\\n",
    "                                       \"Не удалось найти вакансии. Возможно, проблема с сайтом.\")\n",
    "        return\n",
    "\n",
    "    # Проверяем новые вакансии\n",
    "    new_vacancy_found = False\n",
    "    for url, vacancy in new_vacancies.items():\n",
    "        if url not in old_vacancies:\n",
    "            message = f\"Новая вакансия!\\n\\nНазвание: {vacancy['title']}\\n\\\n",
    "                Зарплата: {vacancy['salary']}\\nОрганизация: {vacancy['company']}\\nСсылка: {url}\"\n",
    "            await context.bot.send_message(chat_id=chat_id, text=message)\n",
    "            new_vacancy_found = True\n",
    "\n",
    "    if not new_vacancy_found:\n",
    "        await context.bot.send_message(chat_id=chat_id, text=\"Новых вакансий не найдено.\")\n",
    "\n",
    "    # Сохраняем новые данные\n",
    "    save_vacancies(new_vacancies)"
   ]
  },
  {
   "cell_type": "code",
   "execution_count": 9,
   "id": "c13cd8d1",
   "metadata": {},
   "outputs": [],
   "source": [
    "async def handle_file(update: Update, context: ContextTypes.DEFAULT_TYPE):\n",
    "    \"\"\"Обрабатывает загруженный JSON-файл с вакансиями.\"\"\"\n",
    "    chat_id = update.message.chat_id\n",
    "    file = update.message.document\n",
    "\n",
    "    if not file.mime_type == 'application/json':\n",
    "        await context.bot.send_message(chat_id=chat_id, text=\\\n",
    "                                       \"Пожалуйста, загрузите файл в формате JSON.\")\n",
    "        return\n",
    "\n",
    "    try:\n",
    "        # Получаем файл\n",
    "        file_obj = await file.get_file()\n",
    "        file_path = await file_obj.download_to_drive(JSON_FILE)\n",
    "\n",
    "        # Проверяем корректность JSON\n",
    "        with open(JSON_FILE, 'r', encoding='utf-8') as f:\n",
    "            json.load(f)  # Проверяем, что файл валидный JSON\n",
    "\n",
    "        await context.bot.send_message(chat_id=chat_id, text=\\\n",
    "                                       f\"Файл {JSON_FILE} успешно загружен и будет использован для сравнения при следующей команде /check.\")\n",
    "    except Exception as e:\n",
    "        logger.error(f\"Ошибка при обработке файла: {e}\")\n",
    "        await context.bot.send_message(chat_id=chat_id, text=\\\n",
    "                                       \"Ошибка при загрузке файла. Убедитесь, что это валидный JSON-файл.\")"
   ]
  },
  {
   "cell_type": "code",
   "execution_count": 12,
   "id": "f9702638",
   "metadata": {},
   "outputs": [],
   "source": [
    "async def get_file(update: Update, context: ContextTypes.DEFAULT_TYPE):\n",
    "    chat_id = update.message.chat_id\n",
    "    if os.path.exists(JSON_FILE):\n",
    "        with open(JSON_FILE, 'rb') as f:\n",
    "            await context.bot.send_document(chat_id=chat_id, document=f, filename=JSON_FILE)\n",
    "    else:\n",
    "        await context.bot.send_message(chat_id=chat_id, text=\"Файл vacancies.json не найден.\")"
   ]
  },
  {
   "cell_type": "code",
   "execution_count": 11,
   "id": "32bae43b",
   "metadata": {},
   "outputs": [],
   "source": [
    "application = Application.builder().token(BOT_TOKEN).build()"
   ]
  },
  {
   "cell_type": "code",
   "execution_count": 14,
   "id": "7586e921",
   "metadata": {},
   "outputs": [],
   "source": [
    "application.add_handler(CommandHandler(\"start\", start))\n",
    "application.add_handler(CommandHandler(\"check\", check_vacancies))\n",
    "application.add_handler(CommandHandler(\"getfile\", get_file))\n",
    "application.add_handler(MessageHandler(filters.Document.MimeType(\"application/json\"), handle_file))"
   ]
  },
  {
   "cell_type": "code",
   "execution_count": null,
   "id": "0bfbae42",
   "metadata": {},
   "outputs": [],
   "source": [
    "def main():\n",
    "    \"\"\"Запускает бота и проверяет наличие файла при старте.\"\"\"\n",
    "    application = Application.builder().token(BOT_TOKEN).build()\n",
    "\n",
    "    # Добавляем обработчики\n",
    "    application.add_handler(CommandHandler(\"start\", start))\n",
    "    application.add_handler(CommandHandler(\"check\", check_vacancies))\n",
    "    application.add_handler(CommandHandler(\"getfile\", get_file))\n",
    "    application.add_handler(MessageHandler(filters.Document.MimeType(\"application/json\"), handle_file))\n",
    "\n",
    "    # Проверяем, существует ли файл vacancies.json при запуске\n",
    "    if not os.path.exists(JSON_FILE):\n",
    "        logger.info(\"Файл vacancies.json не найден, парсим вакансии при запуске\")\n",
    "        vacancies = parse_vacancies()\n",
    "        if vacancies:\n",
    "            save_vacancies(vacancies)\n",
    "            logger.info(f\"Сохранено {len(vacancies)} вакансий в {JSON_FILE}\")\n",
    "        else:\n",
    "            logger.warning(\"Не удалось найти вакансии при первом запуске\")\n",
    "\n",
    "    # Запускаем бота\n",
    "    logger.info(\"Бот запущен\")\n",
    "    application.run_polling()"
   ]
  }
 ],
 "metadata": {
  "kernelspec": {
   "display_name": "tensorflow",
   "language": "python",
   "name": "python3"
  },
  "language_info": {
   "codemirror_mode": {
    "name": "ipython",
    "version": 3
   },
   "file_extension": ".py",
   "mimetype": "text/x-python",
   "name": "python",
   "nbconvert_exporter": "python",
   "pygments_lexer": "ipython3",
   "version": "3.10.13"
  }
 },
 "nbformat": 4,
 "nbformat_minor": 5
}
