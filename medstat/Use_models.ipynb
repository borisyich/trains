{
  "cells": [
    {
      "cell_type": "markdown",
      "metadata": {
        "id": "s7ohRgdOz8kr"
      },
      "source": [
        "# Внимание.\n",
        "Перед загрузкой моделей необходимо загрузить модели и исходные данные в среду выполнения Google Colab (раздел \"Файлы\" на левой панели инструментов).\n",
        "Исходные данные должны быть в файле 'dataset.xlsx'.\n",
        "# Для выполнения ячеек нажмите на верхней панели инструментов \"Среда выполнения\" -> \"Выполнить все\" или нажмите на Ctrl+F9."
      ]
    },
    {
      "cell_type": "markdown",
      "metadata": {
        "id": "eSlNMw8fExWq"
      },
      "source": [
        "# Внимание.\n",
        "Итоговый файл с прогнозами моделей необходимо скачать на Ваше устройство (файл 'dataset_results.xlsx' раздела \"Файлы\" на левой панели инструментов).\n",
        "В него добавлены пять столбцов (четыре с прогнозами моделей и один со средним значением прогнозов)"
      ]
    },
    {
      "cell_type": "code",
      "execution_count": 1,
      "metadata": {
        "colab": {
          "base_uri": "https://localhost:8080/"
        },
        "id": "kxTWTxuAylUg",
        "outputId": "0d8b2a21-6072-4ca4-f121-fe3a280f2ae1"
      },
      "outputs": [
        {
          "name": "stdout",
          "output_type": "stream",
          "text": [
            "Requirement already satisfied: catboost in c:\\users\\dreck\\miniconda3\\envs\\tensorflow\\lib\\site-packages (1.2.8)\n",
            "Requirement already satisfied: graphviz in c:\\users\\dreck\\miniconda3\\envs\\tensorflow\\lib\\site-packages (from catboost) (0.20.3)\n",
            "Requirement already satisfied: matplotlib in c:\\users\\dreck\\miniconda3\\envs\\tensorflow\\lib\\site-packages (from catboost) (3.10.0)\n",
            "Requirement already satisfied: numpy<3.0,>=1.16.0 in c:\\users\\dreck\\miniconda3\\envs\\tensorflow\\lib\\site-packages (from catboost) (1.26.4)\n",
            "Requirement already satisfied: pandas>=0.24 in c:\\users\\dreck\\miniconda3\\envs\\tensorflow\\lib\\site-packages (from catboost) (2.2.3)\n",
            "Requirement already satisfied: scipy in c:\\users\\dreck\\miniconda3\\envs\\tensorflow\\lib\\site-packages (from catboost) (1.15.2)\n",
            "Requirement already satisfied: plotly in c:\\users\\dreck\\miniconda3\\envs\\tensorflow\\lib\\site-packages (from catboost) (5.24.1)\n",
            "Requirement already satisfied: six in c:\\users\\dreck\\miniconda3\\envs\\tensorflow\\lib\\site-packages (from catboost) (1.17.0)\n",
            "Requirement already satisfied: python-dateutil>=2.8.2 in c:\\users\\dreck\\miniconda3\\envs\\tensorflow\\lib\\site-packages (from pandas>=0.24->catboost) (2.9.0.post0)\n",
            "Requirement already satisfied: pytz>=2020.1 in c:\\users\\dreck\\miniconda3\\envs\\tensorflow\\lib\\site-packages (from pandas>=0.24->catboost) (2024.1)\n",
            "Requirement already satisfied: tzdata>=2022.7 in c:\\users\\dreck\\miniconda3\\envs\\tensorflow\\lib\\site-packages (from pandas>=0.24->catboost) (2023.3)\n",
            "Requirement already satisfied: contourpy>=1.0.1 in c:\\users\\dreck\\miniconda3\\envs\\tensorflow\\lib\\site-packages (from matplotlib->catboost) (1.3.1)\n",
            "Requirement already satisfied: cycler>=0.10 in c:\\users\\dreck\\miniconda3\\envs\\tensorflow\\lib\\site-packages (from matplotlib->catboost) (0.11.0)\n",
            "Requirement already satisfied: fonttools>=4.22.0 in c:\\users\\dreck\\miniconda3\\envs\\tensorflow\\lib\\site-packages (from matplotlib->catboost) (4.55.3)\n",
            "Requirement already satisfied: kiwisolver>=1.3.1 in c:\\users\\dreck\\miniconda3\\envs\\tensorflow\\lib\\site-packages (from matplotlib->catboost) (1.4.8)\n",
            "Requirement already satisfied: packaging>=20.0 in c:\\users\\dreck\\miniconda3\\envs\\tensorflow\\lib\\site-packages (from matplotlib->catboost) (24.2)\n",
            "Requirement already satisfied: pillow>=8 in c:\\users\\dreck\\miniconda3\\envs\\tensorflow\\lib\\site-packages (from matplotlib->catboost) (11.1.0)\n",
            "Requirement already satisfied: pyparsing>=2.3.1 in c:\\users\\dreck\\miniconda3\\envs\\tensorflow\\lib\\site-packages (from matplotlib->catboost) (3.2.0)\n",
            "Requirement already satisfied: tenacity>=6.2.0 in c:\\users\\dreck\\miniconda3\\envs\\tensorflow\\lib\\site-packages (from plotly->catboost) (9.0.0)\n"
          ]
        }
      ],
      "source": [
        "#@title Загрузка библиотек\n",
        "\n",
        "!pip install catboost\n",
        "\n",
        "import numpy as np\n",
        "import pandas as pd\n",
        "import matplotlib.pyplot as plt\n",
        "\n",
        "from joblib import load\n",
        "\n",
        "from sklearn.ensemble import RandomForestClassifier\n",
        "from sklearn.linear_model import LogisticRegression\n",
        "from sklearn.svm import SVC\n",
        "from catboost import CatBoostClassifier"
      ]
    },
    {
      "cell_type": "code",
      "execution_count": 3,
      "metadata": {
        "id": "qxAVTgChzB9g"
      },
      "outputs": [],
      "source": [
        "#@title Загрузка моделей и исходных данных\n",
        "\n",
        "model_forest = load('logreg.pkl')\n",
        "model_logreg = load('forest.pkl')\n",
        "model_svc = load('svc.pkl')\n",
        "model_catboost = CatBoostClassifier()\n",
        "model_catboost.load_model(\"catboost\")\n",
        "df = pd.read_excel('dataset.xlsx')"
      ]
    },
    {
      "cell_type": "code",
      "execution_count": 4,
      "metadata": {
        "id": "h1OifsLO4u55"
      },
      "outputs": [],
      "source": [
        "# копия датафрейма для вывода вероятностей\n",
        "df_spr = df.copy()"
      ]
    },
    {
      "cell_type": "code",
      "execution_count": 5,
      "metadata": {
        "id": "oPeU33Lj0YGj"
      },
      "outputs": [],
      "source": [
        "forest_predict = model_forest.predict(df)\n",
        "logreg_predict = model_logreg.predict(df)\n",
        "svc_predict = model_svc.predict(df)\n",
        "catboost_predict = model_catboost.predict(df)"
      ]
    },
    {
      "cell_type": "code",
      "execution_count": 6,
      "metadata": {
        "id": "faxTwTEe6RLy"
      },
      "outputs": [],
      "source": [
        "df['operation_forest_predict'] = forest_predict\n",
        "df['operation_logreg_predict'] = logreg_predict\n",
        "df['operation_svc_predict'] = svc_predict\n",
        "df['operation_catboost_predict'] = catboost_predict\n",
        "\n",
        "# добавление столбца с мажоритарным голосованием моделей\n",
        "df['majority_vote'] = df[['operation_forest_predict', 'operation_logreg_predict', \n",
        "                          'operation_svc_predict', 'operation_catboost_predict']].mean(axis=1)"
      ]
    },
    {
      "cell_type": "code",
      "execution_count": 7,
      "metadata": {
        "id": "B_4dtCm8EehA"
      },
      "outputs": [],
      "source": [
        "df.to_excel('dataset_results.xlsx')"
      ]
    },
    {
      "cell_type": "code",
      "execution_count": 8,
      "metadata": {
        "colab": {
          "base_uri": "https://localhost:8080/",
          "height": 332
        },
        "id": "jzw8qUoE7Bxj",
        "outputId": "6ec23db4-d16a-448c-b7f8-ea2b75992637"
      },
      "outputs": [
        {
          "data": {
            "text/html": [
              "<div>\n",
              "<style scoped>\n",
              "    .dataframe tbody tr th:only-of-type {\n",
              "        vertical-align: middle;\n",
              "    }\n",
              "\n",
              "    .dataframe tbody tr th {\n",
              "        vertical-align: top;\n",
              "    }\n",
              "\n",
              "    .dataframe thead th {\n",
              "        text-align: right;\n",
              "    }\n",
              "</style>\n",
              "<table border=\"1\" class=\"dataframe\">\n",
              "  <thead>\n",
              "    <tr style=\"text-align: right;\">\n",
              "      <th></th>\n",
              "      <th>prob_forest</th>\n",
              "      <th>prob_logreg</th>\n",
              "      <th>prob_catboost</th>\n",
              "    </tr>\n",
              "  </thead>\n",
              "  <tbody>\n",
              "    <tr>\n",
              "      <th>0</th>\n",
              "      <td>0.793224</td>\n",
              "      <td>0.98</td>\n",
              "      <td>0.806600</td>\n",
              "    </tr>\n",
              "    <tr>\n",
              "      <th>1</th>\n",
              "      <td>0.930230</td>\n",
              "      <td>1.00</td>\n",
              "      <td>0.979723</td>\n",
              "    </tr>\n",
              "    <tr>\n",
              "      <th>2</th>\n",
              "      <td>0.899112</td>\n",
              "      <td>1.00</td>\n",
              "      <td>0.978171</td>\n",
              "    </tr>\n",
              "    <tr>\n",
              "      <th>3</th>\n",
              "      <td>0.697685</td>\n",
              "      <td>1.00</td>\n",
              "      <td>0.951196</td>\n",
              "    </tr>\n",
              "    <tr>\n",
              "      <th>4</th>\n",
              "      <td>0.804841</td>\n",
              "      <td>1.00</td>\n",
              "      <td>0.944264</td>\n",
              "    </tr>\n",
              "    <tr>\n",
              "      <th>5</th>\n",
              "      <td>0.908197</td>\n",
              "      <td>1.00</td>\n",
              "      <td>0.985959</td>\n",
              "    </tr>\n",
              "    <tr>\n",
              "      <th>6</th>\n",
              "      <td>0.728252</td>\n",
              "      <td>0.93</td>\n",
              "      <td>0.885124</td>\n",
              "    </tr>\n",
              "    <tr>\n",
              "      <th>7</th>\n",
              "      <td>0.815241</td>\n",
              "      <td>1.00</td>\n",
              "      <td>0.884904</td>\n",
              "    </tr>\n",
              "    <tr>\n",
              "      <th>8</th>\n",
              "      <td>0.558860</td>\n",
              "      <td>0.91</td>\n",
              "      <td>0.795901</td>\n",
              "    </tr>\n",
              "  </tbody>\n",
              "</table>\n",
              "</div>"
            ],
            "text/plain": [
              "   prob_forest  prob_logreg  prob_catboost\n",
              "0     0.793224         0.98       0.806600\n",
              "1     0.930230         1.00       0.979723\n",
              "2     0.899112         1.00       0.978171\n",
              "3     0.697685         1.00       0.951196\n",
              "4     0.804841         1.00       0.944264\n",
              "5     0.908197         1.00       0.985959\n",
              "6     0.728252         0.93       0.885124\n",
              "7     0.815241         1.00       0.884904\n",
              "8     0.558860         0.91       0.795901"
            ]
          },
          "execution_count": 8,
          "metadata": {},
          "output_type": "execute_result"
        }
      ],
      "source": [
        "#@title Справочно. Ниже приведены вероятности прогнозов моделей (модель svc не поддерживает функцию)\n",
        "\n",
        "probs = pd.DataFrame()\n",
        "prob_forest = pd.DataFrame(model_forest.predict_proba(df_spr))\n",
        "probs['prob_forest'] = prob_forest.max(axis=1)\n",
        "prob_logreg = pd.DataFrame(model_logreg.predict_proba(df_spr))\n",
        "probs['prob_logreg'] = prob_logreg.max(axis=1)\n",
        "prob_catboost = pd.DataFrame(model_catboost.predict_proba(df_spr))\n",
        "probs['prob_catboost'] = prob_catboost.max(axis=1)\n",
        "probs"
      ]
    },
    {
      "cell_type": "code",
      "execution_count": null,
      "metadata": {
        "id": "9fSPaZNDP_LC"
      },
      "outputs": [],
      "source": []
    }
  ],
  "metadata": {
    "colab": {
      "provenance": []
    },
    "kernelspec": {
      "display_name": "tensorflow",
      "language": "python",
      "name": "python3"
    },
    "language_info": {
      "codemirror_mode": {
        "name": "ipython",
        "version": 3
      },
      "file_extension": ".py",
      "mimetype": "text/x-python",
      "name": "python",
      "nbconvert_exporter": "python",
      "pygments_lexer": "ipython3",
      "version": "3.10.16"
    }
  },
  "nbformat": 4,
  "nbformat_minor": 0
}
